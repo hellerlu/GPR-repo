{
 "cells": [
  {
   "cell_type": "markdown",
   "metadata": {},
   "source": []
  },
  {
   "cell_type": "code",
   "execution_count": 1,
   "metadata": {},
   "outputs": [],
   "source": [
    "import numpy as np"
   ]
  },
  {
   "cell_type": "code",
   "execution_count": 2,
   "metadata": {},
   "outputs": [],
   "source": [
    "# Dielectric properties: [rel permittivity, conductivity, rel permeability, magnetic loss]\n",
    "dielec_ballast =    np.array([6, 0, 1, 0])\n",
    "dielec_air =        np.array([1, 0 , 1, 0])\n",
    "dielec_water =      np.array([80, 0.3, 1, 0])\n",
    "dielec_pol =        np.array([5, 0.1, 1, 0])\n",
    "\n",
    "materials = [dielec_ballast,dielec_air,dielec_water,dielec_pol]\n",
    "\n",
    "# USER INPUT:\n",
    "# Volumetric fraction of materials present:\n",
    "vol_fraction = [0.65,0.35,0,0]"
   ]
  },
  {
   "cell_type": "code",
   "execution_count": 3,
   "metadata": {},
   "outputs": [
    {
     "name": "stdout",
     "output_type": "stream",
     "text": [
      "[4.25 0.   1.   0.  ]\n"
     ]
    }
   ],
   "source": [
    "dielec_mix = np.average([dielec_ballast,dielec_air,dielec_water,dielec_pol],weights=vol_fraction,axis=0)\n",
    "print(dielec_mix)"
   ]
  },
  {
   "cell_type": "code",
   "execution_count": 4,
   "metadata": {},
   "outputs": [
    {
     "name": "stdout",
     "output_type": "stream",
     "text": [
      "[3.77201783 0.         1.         0.        ]\n"
     ]
    }
   ],
   "source": [
    "dielec_const_mix = 0\n",
    "for i,vol in enumerate(vol_fraction):\n",
    "    dielec_const_mix += vol*materials[i]**0.5\n",
    "\n",
    "dielec_const_mix = dielec_const_mix**(1/0.5)\n",
    "\n",
    "print(dielec_const_mix)"
   ]
  }
 ],
 "metadata": {
  "kernelspec": {
   "display_name": "Python 3.7.12 ('readgssi')",
   "language": "python",
   "name": "python3"
  },
  "language_info": {
   "codemirror_mode": {
    "name": "ipython",
    "version": 3
   },
   "file_extension": ".py",
   "mimetype": "text/x-python",
   "name": "python",
   "nbconvert_exporter": "python",
   "pygments_lexer": "ipython3",
   "version": "3.7.12"
  },
  "orig_nbformat": 4,
  "vscode": {
   "interpreter": {
    "hash": "b9c586a13567fa848b24a3ad3f9e3e6c93d0364a53e19a6a02dfa8acbc96966e"
   }
  }
 },
 "nbformat": 4,
 "nbformat_minor": 2
}
