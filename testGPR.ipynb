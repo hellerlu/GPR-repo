{
 "cells": [
  {
   "cell_type": "code",
   "execution_count": 1,
   "metadata": {},
   "outputs": [
    {
     "name": "stdout",
     "output_type": "stream",
     "text": [
      "\n",
      "=== Electromagnetic modelling software based on the Finite-Difference Time-Domain (FDTD) method \n",
      "\n",
      "    www.gprmax.com   __  __\n",
      "     __ _ _ __  _ __|  \\/  | __ ___  __\n",
      "    / _` | '_ \\| '__| |\\/| |/ _` \\ \\/ /\n",
      "   | (_| | |_) | |  | |  | | (_| |>  <\n",
      "    \\__, | .__/|_|  |_|  |_|\\__,_/_/\\_\\\n",
      "    |___/|_|\n",
      "                     v3.1.6 (Big Smoke)\n",
      "\n",
      " Copyright (C) 2015-2022: The University of Edinburgh\n",
      " Authors: Craig Warren and Antonis Giannopoulos\n",
      "\n",
      " gprMax is free software: you can redistribute it and/or modify it under the\n",
      "  terms of the GNU General Public License as published by the Free Software\n",
      "  Foundation, either version 3 of the License, or (at your option) any later\n",
      "  version.\n",
      " gprMax is distributed in the hope that it will be useful, but WITHOUT ANY\n",
      "  WARRANTY; without even the implied warranty of MERCHANTABILITY or FITNESS FOR\n",
      "  A PARTICULAR PURPOSE.  See the GNU General Public License for more details.\n",
      " You should have received a copy of the GNU General Public License along with\n",
      "  gprMax.  If not, see www.gnu.org/licenses.\n"
     ]
    },
    {
     "name": "stderr",
     "output_type": "stream",
     "text": [
      "Traceback (most recent call last):\n",
      "  File \"c:\\Users\\lukas\\anaconda3\\envs\\gprMax\\lib\\runpy.py\", line 196, in _run_module_as_main\n",
      "    return _run_code(code, main_globals, None,\n",
      "  File \"c:\\Users\\lukas\\anaconda3\\envs\\gprMax\\lib\\runpy.py\", line 86, in _run_code\n",
      "    exec(code, run_globals)\n",
      "  File \"c:\\Users\\lukas\\anaconda3\\envs\\gprMax\\lib\\site-packages\\gprmax-3.1.6-py3.10-win-amd64.egg\\gprMax\\__main__.py\", line 6, in <module>\n",
      "    gprMax.gprMax.main()\n",
      "  File \"c:\\Users\\lukas\\anaconda3\\envs\\gprMax\\lib\\site-packages\\gprmax-3.1.6-py3.10-win-amd64.egg\\gprMax\\gprMax.py\", line 69, in main\n",
      "    run_main(args)\n",
      "  File \"c:\\Users\\lukas\\anaconda3\\envs\\gprMax\\lib\\site-packages\\gprmax-3.1.6-py3.10-win-amd64.egg\\gprMax\\gprMax.py\", line 122, in run_main\n",
      "    with open_path_file(args.inputfile) as inputfile:\n",
      "  File \"c:\\Users\\lukas\\anaconda3\\envs\\gprMax\\lib\\contextlib.py\", line 135, in __enter__\n",
      "    return next(self.gen)\n",
      "  File \"c:\\Users\\lukas\\anaconda3\\envs\\gprMax\\lib\\site-packages\\gprmax-3.1.6-py3.10-win-amd64.egg\\gprMax\\utilities.py\", line 104, in open_path_file\n",
      "    f = file_to_close = codecs.open(path_or_file, 'r', encoding='utf-8')\n",
      "  File \"c:\\Users\\lukas\\anaconda3\\envs\\gprMax\\lib\\codecs.py\", line 905, in open\n",
      "    file = builtins.open(filename, mode, buffering)\n",
      "FileNotFoundError: [Errno 2] No such file or directory: 'user_models/cylinder_Ascan_2D.in'\n"
     ]
    }
   ],
   "source": [
    "!python -m gprMax user_models/cylinder_Ascan_2D.in"
   ]
  },
  {
   "cell_type": "code",
   "execution_count": null,
   "metadata": {},
   "outputs": [],
   "source": []
  }
 ],
 "metadata": {
  "kernelspec": {
   "display_name": "Python 3.10.4 ('gprMax')",
   "language": "python",
   "name": "python3"
  },
  "language_info": {
   "codemirror_mode": {
    "name": "ipython",
    "version": 3
   },
   "file_extension": ".py",
   "mimetype": "text/x-python",
   "name": "python",
   "nbconvert_exporter": "python",
   "pygments_lexer": "ipython3",
   "version": "3.10.4"
  },
  "orig_nbformat": 4,
  "vscode": {
   "interpreter": {
    "hash": "8b76290aca17565958101ab0507a498b6977351e0689e622f612d1a72e02dc26"
   }
  }
 },
 "nbformat": 4,
 "nbformat_minor": 2
}
